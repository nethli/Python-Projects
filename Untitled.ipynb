{
 "cells": [
  {
   "cell_type": "code",
   "execution_count": 1,
   "id": "de99e195",
   "metadata": {},
   "outputs": [
    {
     "name": "stdout",
     "output_type": "stream",
     "text": [
      "Hi, I am Nethli\n"
     ]
    }
   ],
   "source": [
    "print(\"Hi, I am Nethli\")"
   ]
  },
  {
   "cell_type": "code",
   "execution_count": 2,
   "id": "e23ea1bb",
   "metadata": {},
   "outputs": [
    {
     "name": "stdout",
     "output_type": "stream",
     "text": [
      "11\n",
      "12\n"
     ]
    }
   ],
   "source": [
    "a=10\n",
    "a = a +1\n",
    "print(a)\n",
    "a +=1\n",
    "print(a)"
   ]
  },
  {
   "cell_type": "code",
   "execution_count": 3,
   "id": "65b45560",
   "metadata": {},
   "outputs": [
    {
     "name": "stdout",
     "output_type": "stream",
     "text": [
      "The value of C is : 12\n"
     ]
    }
   ],
   "source": [
    "print(\"The value of C is : \" + str(a))"
   ]
  },
  {
   "cell_type": "code",
   "execution_count": 4,
   "id": "4aec6580",
   "metadata": {},
   "outputs": [
    {
     "name": "stdout",
     "output_type": "stream",
     "text": [
      "The value of x is : 3.3333333333333335\n",
      "The value of y is : 1\n"
     ]
    }
   ],
   "source": [
    "p = 10\n",
    "q = 3\n",
    "\n",
    "x = p/q\n",
    "y = p%q\n",
    "\n",
    "print(\"The value of x is : \"+ str(x))\n",
    "print(\"The value of y is : \"+ str(y))"
   ]
  },
  {
   "cell_type": "code",
   "execution_count": 5,
   "id": "b27d2fa3",
   "metadata": {},
   "outputs": [
    {
     "name": "stdout",
     "output_type": "stream",
     "text": [
      "Marks greater than or equal to 50\n"
     ]
    }
   ],
   "source": [
    "marks = 50\n",
    "\n",
    "if marks>=50:\n",
    "    print(\"Marks greater than or equal to 50\")"
   ]
  },
  {
   "cell_type": "code",
   "execution_count": 6,
   "id": "7072f794",
   "metadata": {},
   "outputs": [
    {
     "name": "stdout",
     "output_type": "stream",
     "text": [
      "Marks equal to 50\n"
     ]
    }
   ],
   "source": [
    "if marks ==50:\n",
    "    print(\"Marks equal to 50\")\n",
    "elif marks >50:\n",
    "     print(\"Marks are greater than 50\")\n",
    "else:\n",
    "     print(\"Marks less than 50\")"
   ]
  },
  {
   "cell_type": "code",
   "execution_count": 7,
   "id": "0a9488bd",
   "metadata": {},
   "outputs": [
    {
     "name": "stdout",
     "output_type": "stream",
     "text": [
      "0\n",
      "1\n",
      "2\n",
      "3\n",
      "4\n",
      "5\n",
      "6\n",
      "7\n",
      "8\n",
      "9\n"
     ]
    }
   ],
   "source": [
    "for i in range(10):\n",
    "    print(i)"
   ]
  },
  {
   "cell_type": "code",
   "execution_count": 8,
   "id": "3791c0c0",
   "metadata": {},
   "outputs": [
    {
     "name": "stdout",
     "output_type": "stream",
     "text": [
      "5\n",
      "6\n",
      "7\n",
      "8\n",
      "9\n"
     ]
    }
   ],
   "source": [
    "for i in range(5,10):\n",
    "    print(i)"
   ]
  },
  {
   "cell_type": "code",
   "execution_count": 9,
   "id": "e8bf01c2",
   "metadata": {},
   "outputs": [
    {
     "name": "stdout",
     "output_type": "stream",
     "text": [
      "3\n",
      "5\n",
      "7\n",
      "9\n",
      "11\n"
     ]
    }
   ],
   "source": [
    "for i in range(3,12,2):\n",
    "    print(i)"
   ]
  },
  {
   "cell_type": "code",
   "execution_count": 10,
   "id": "fbe5f643",
   "metadata": {},
   "outputs": [
    {
     "name": "stdout",
     "output_type": "stream",
     "text": [
      "0\n",
      "1\n",
      "2\n",
      "3\n",
      "4\n"
     ]
    }
   ],
   "source": [
    "i = 0\n",
    "while(i<5):\n",
    "  print(i)\n",
    "  i += 1"
   ]
  },
  {
   "cell_type": "code",
   "execution_count": 11,
   "id": "4fb8a774",
   "metadata": {},
   "outputs": [
    {
     "name": "stdout",
     "output_type": "stream",
     "text": [
      "2 is an even number\n",
      "4 is an even number\n",
      "6 is an even number\n",
      "9 is an odd number\n",
      "5 is an odd number\n"
     ]
    }
   ],
   "source": [
    "#create a integer list in python\n",
    "list_of_numbers = [2,4,6,9,5]\n",
    "for i in list_of_numbers:\n",
    " \n",
    "        # check if no. is odd\n",
    "        if i%2!=0:\n",
    " \n",
    "                # if condition is True print \"odd\"\n",
    "                print(i,\"is an odd number\")\n",
    " \n",
    "        # check if no. is even\n",
    "        if i%2==0:\n",
    " \n",
    "                # if condition is false print \"even\"\n",
    "                print(i,\"is an even number\")"
   ]
  },
  {
   "cell_type": "code",
   "execution_count": 12,
   "id": "7e0e1e8e",
   "metadata": {},
   "outputs": [
    {
     "name": "stdout",
     "output_type": "stream",
     "text": [
      "Red\n",
      "Green\n",
      "Blue\n",
      "White\n"
     ]
    }
   ],
   "source": [
    "#create a string list in python\n",
    "\n",
    "colors = [\"Red\", \"Green\", \"Blue\", \"White\"]\n",
    "for i in colors:\n",
    "    print (i)"
   ]
  },
  {
   "cell_type": "code",
   "execution_count": 13,
   "id": "b9a8eeec",
   "metadata": {},
   "outputs": [
    {
     "name": "stdout",
     "output_type": "stream",
     "text": [
      "The current value of the list is : Red\n",
      "RED\n",
      "The current value of the list is : Green\n",
      "Other\n",
      "The current value of the list is : Blue\n",
      "Other\n",
      "The current value of the list is : White\n",
      "Other\n"
     ]
    }
   ],
   "source": [
    "colors = [\"Red\", \"Green\", \"Blue\", \"White\"]\n",
    "for i in colors:\n",
    "    print(\"The current value of the list is : \" + i)\n",
    "    if i ==\"red\":\n",
    "        print(\"Not red\")\n",
    "    elif i.lower() == \"red\":\n",
    "        print(\"RED\")\n",
    "    else:\n",
    "        print(\"Other\")"
   ]
  },
  {
   "cell_type": "code",
   "execution_count": null,
   "id": "28085772",
   "metadata": {},
   "outputs": [],
   "source": []
  }
 ],
 "metadata": {
  "kernelspec": {
   "display_name": "Python 3 (ipykernel)",
   "language": "python",
   "name": "python3"
  },
  "language_info": {
   "codemirror_mode": {
    "name": "ipython",
    "version": 3
   },
   "file_extension": ".py",
   "mimetype": "text/x-python",
   "name": "python",
   "nbconvert_exporter": "python",
   "pygments_lexer": "ipython3",
   "version": "3.11.1"
  }
 },
 "nbformat": 4,
 "nbformat_minor": 5
}
